{
 "cells": [
  {
   "cell_type": "code",
   "execution_count": 15,
   "id": "7b948fbd",
   "metadata": {},
   "outputs": [
    {
     "ename": "ImportError",
     "evalue": "cannot import name 'paths_calc' from 'dummy_data_signatures_v2' (C:\\Users\\dmitr\\Desktop\\project work\\dummy_data_signatures_v2.py)",
     "output_type": "error",
     "traceback": [
      "\u001b[1;31m---------------------------------------------------------------------------\u001b[0m",
      "\u001b[1;31mImportError\u001b[0m                               Traceback (most recent call last)",
      "Input \u001b[1;32mIn [15]\u001b[0m, in \u001b[0;36m<cell line: 27>\u001b[1;34m()\u001b[0m\n\u001b[0;32m     25\u001b[0m \u001b[38;5;28;01mfrom\u001b[39;00m \u001b[38;5;21;01mdummy_data_signatures_v2\u001b[39;00m \u001b[38;5;28;01mimport\u001b[39;00m normalise_stream\n\u001b[0;32m     26\u001b[0m \u001b[38;5;28;01mfrom\u001b[39;00m \u001b[38;5;21;01mdummy_data_signatures_v2\u001b[39;00m \u001b[38;5;28;01mimport\u001b[39;00m calculate_signatures\n\u001b[1;32m---> 27\u001b[0m \u001b[38;5;28;01mfrom\u001b[39;00m \u001b[38;5;21;01mdummy_data_signatures_v2\u001b[39;00m \u001b[38;5;28;01mimport\u001b[39;00m paths_calc\n\u001b[0;32m     29\u001b[0m \u001b[38;5;28;01mfrom\u001b[39;00m \u001b[38;5;21;01mmah_outlier_calc\u001b[39;00m \u001b[38;5;28;01mimport\u001b[39;00m mah_distance\n",
      "\u001b[1;31mImportError\u001b[0m: cannot import name 'paths_calc' from 'dummy_data_signatures_v2' (C:\\Users\\dmitr\\Desktop\\project work\\dummy_data_signatures_v2.py)"
     ]
    }
   ],
   "source": [
    "import pandas as pd\n",
    "import sys\n",
    "import esig\n",
    "import numpy as np\n",
    "import random\n",
    "import matplotlib.pyplot as plt\n",
    "import sklearn.metrics\n",
    "import itertools\n",
    "import os.path\n",
    "import time\n",
    "import zipfile\n",
    "import iisignature\n",
    "from joblib import Memory, Parallel, delayed\n",
    "from datetime import datetime\n",
    "from signal import signal\n",
    "from tqdm import tqdm\n",
    "from functools import lru_cache\n",
    "from scipy.stats import chi2\n",
    "from sklearn.metrics import roc_auc_score\n",
    "from sklearn.covariance import EmpiricalCovariance, MinCovDet\n",
    "from sklearn.ensemble import IsolationForest\n",
    "from sklearn.preprocessing import normalize\n",
    "from sklearn.preprocessing import MinMaxScaler\n",
    "\n",
    "from dummy_data_signatures_v2.py import normalise_stream\n",
    "from dummy_data_signatures_v2.py import calculate_signatures\n",
    "from dummy_data_signatures_v2.py import paths\n",
    "\n",
    "from mah_outlier_calc import mah_distance"
   ]
  },
  {
   "cell_type": "code",
   "execution_count": 7,
   "id": "84745c76",
   "metadata": {},
   "outputs": [],
   "source": [
    "clean_events = pd.read_csv('C:\\\\Users\\\\dmitr\\\\Desktop\\\\project work\\\\dummy data\\\\clean_data.csv')\n",
    "anomalous_events_labels = pd.read_csv('C:\\\\Users\\\\dmitr\\\\Desktop\\\\project work\\\\dummy data\\\\data_anomaly_labels.csv')\n",
    "anomalous_events_timestamps = set(anomalous_events_labels['timestamp'].values.tolist())\n",
    "events = pd.read_csv('C:\\\\Users\\\\dmitr\\\\Desktop\\\\project work\\\\dummy data\\\\data.csv')"
   ]
  },
  {
   "cell_type": "code",
   "execution_count": 8,
   "id": "fbeebea5",
   "metadata": {},
   "outputs": [],
   "source": [
    "day = 86400\n",
    "observed = [np.int_(0), np.int_(1), np.int_(2), np.int_(3), np.int_(4)]\n",
    "depth = 2\n",
    "time_variable = True\n",
    "daytime_variable = True\n",
    "stream_length = 7 * day\n",
    "stream_spacing = 2 * day\n",
    "\n",
    "no_extrapollation = False\n",
    "lead_lag = False"
   ]
  },
  {
   "cell_type": "code",
   "execution_count": 9,
   "id": "e95022f8",
   "metadata": {},
   "outputs": [
    {
     "ename": "AttributeError",
     "evalue": "module 'dummy_data_signatures_v2' has no attribute 'split_stream'",
     "output_type": "error",
     "traceback": [
      "\u001b[1;31m---------------------------------------------------------------------------\u001b[0m",
      "\u001b[1;31mAttributeError\u001b[0m                            Traceback (most recent call last)",
      "Input \u001b[1;32mIn [9]\u001b[0m, in \u001b[0;36m<cell line: 1>\u001b[1;34m()\u001b[0m\n\u001b[1;32m----> 1\u001b[0m streams \u001b[38;5;241m=\u001b[39m \u001b[43mdummy_data_signatures_v2\u001b[49m\u001b[38;5;241;43m.\u001b[39;49m\u001b[43msplit_stream\u001b[49m(events, anomalous_events_timestamps, observed,  stream_length, stream_spacing, time_variable, daytime_variable, no_extrapollation, lead_lag)\n\u001b[0;32m      2\u001b[0m corpus \u001b[38;5;241m=\u001b[39m dummy_data_signatures_v2\u001b[38;5;241m.\u001b[39msplit_stream(clean_events, [], observed,  stream_length, stream_spacing, time_variable, daytime_variable, no_extrapollation, lead_lag)\n",
      "\u001b[1;31mAttributeError\u001b[0m: module 'dummy_data_signatures_v2' has no attribute 'split_stream'"
     ]
    }
   ],
   "source": [
    "streams = paths(events, anomalous_events_timestamps, observed,  stream_length, stream_spacing, time_variable, daytime_variable, no_extrapollation, lead_lag)\n",
    "corpus = paths(clean_events, [], observed,  stream_length, stream_spacing, time_variable, daytime_variable, no_extrapollation, lead_lag)\n"
   ]
  },
  {
   "cell_type": "code",
   "execution_count": null,
   "id": "818a9db2",
   "metadata": {},
   "outputs": [],
   "source": [
    "norm_streams = map(lambda stream: normalise_stream(stream, time_variable = True, daytime_variable = True, scale_data = False, preprocess_data_columnwise = False), streams)\n",
    "norm_corpus = map(lambda stream: normalise_stream(stream, time_variable = True, daytime_variable = True, scale_data = False, preprocess_data_columnwise = False), corpus)\n"
   ]
  },
  {
   "cell_type": "code",
   "execution_count": null,
   "id": "418dd103",
   "metadata": {},
   "outputs": [],
   "source": [
    "streams_signatures = calculate_signatures(norm_streams, depth)\n",
    "corpus_signatures = calculate_signatures(norm_corpus, depth)"
   ]
  },
  {
   "cell_type": "code",
   "execution_count": null,
   "id": "f280e6b0",
   "metadata": {},
   "outputs": [],
   "source": [
    "mah_distance(signatures)"
   ]
  },
  {
   "cell_type": "code",
   "execution_count": null,
   "id": "16ff8f23",
   "metadata": {},
   "outputs": [],
   "source": []
  }
 ],
 "metadata": {
  "kernelspec": {
   "display_name": "Python 3.10.5 64-bit",
   "language": "python",
   "name": "python3"
  },
  "language_info": {
   "codemirror_mode": {
    "name": "ipython",
    "version": 3
   },
   "file_extension": ".py",
   "mimetype": "text/x-python",
   "name": "python",
   "nbconvert_exporter": "python",
   "pygments_lexer": "ipython3",
   "version": "3.10.5"
  },
  "vscode": {
   "interpreter": {
    "hash": "f441125be57e159650267759ec2248efe54b15ad347e99e3f26931a9aa1467de"
   }
  }
 },
 "nbformat": 4,
 "nbformat_minor": 5
}
