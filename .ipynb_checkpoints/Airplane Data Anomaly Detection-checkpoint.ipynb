{
 "cells": [
  {
   "cell_type": "code",
   "execution_count": 3,
   "id": "06919021",
   "metadata": {},
   "outputs": [
    {
     "name": "stdout",
     "output_type": "stream",
     "text": [
      "The autoreload extension is already loaded. To reload it, use:\n",
      "  %reload_ext autoreload\n"
     ]
    }
   ],
   "source": [
    "%load_ext autoreload\n",
    "%autoreload 2"
   ]
  },
  {
   "cell_type": "code",
   "execution_count": 8,
   "id": "7b948fbd",
   "metadata": {},
   "outputs": [],
   "source": [
    "import pandas as pd\n",
    "import sys\n",
    "import esig\n",
    "import numpy as np\n",
    "import random\n",
    "import matplotlib.pyplot as plt\n",
    "import sklearn.metrics\n",
    "import itertools\n",
    "import os.path\n",
    "import time\n",
    "import zipfile\n",
    "import iisignature\n",
    "from joblib import Memory, Parallel, delayed\n",
    "from datetime import datetime\n",
    "from signal import signal\n",
    "from tqdm import tqdm\n",
    "from functools import lru_cache\n",
    "from scipy.stats import chi2\n",
    "from sklearn.metrics import roc_auc_score\n",
    "from sklearn.covariance import EmpiricalCovariance, MinCovDet\n",
    "from sklearn.ensemble import IsolationForest\n",
    "from sklearn.preprocessing import normalize\n",
    "from sklearn.preprocessing import MinMaxScaler\n",
    "from sklearn.cluster import SpectralClustering\n",
    "\n",
    "sys.path.insert(0, 'C:\\\\Users\\\\dmitr\\\\Desktop\\\\project work')\n",
    "\n",
    "from signature_calculation import calculate_signatures\n",
    "from path_calculation import paths_from_edges\n",
    "from path_calculation import paths_from_vertices\n",
    "from interleave_clusters import interleave\n",
    "\n",
    "import outlier_calc\n",
    "import clustering\n",
    "\n",
    "from variance import variance\n",
    "\n",
    "day = 86400"
   ]
  },
  {
   "cell_type": "code",
   "execution_count": 3,
   "id": "84745c76",
   "metadata": {},
   "outputs": [],
   "source": [
    "clean_events = pd.read_csv('C:\\\\Users\\\\dmitr\\\\Desktop\\\\project work\\\\dummy data\\\\clean_data.csv')\n",
    "anomalous_events_labels = pd.read_csv('C:\\\\Users\\\\dmitr\\\\Desktop\\\\project work\\\\dummy data\\\\data_anomaly_labels.csv')\n",
    "anomalous_events_timestamps = set(anomalous_events_labels['id'].values.tolist())\n",
    "events = pd.read_csv('C:\\\\Users\\\\dmitr\\\\Desktop\\\\project work\\\\dummy data\\\\data.csv')"
   ]
  },
  {
   "cell_type": "code",
   "execution_count": 11,
   "id": "fbeebea5",
   "metadata": {},
   "outputs": [],
   "source": [
    "class hyperparameters:\n",
    "    normalising_data = False \n",
    "    scale_data = True\n",
    "    preprocess_data_columnwise = False\n",
    "    normalising_signature = False\n",
    "    scale_signature = False\n",
    "    preprocess_signature_columnwise = False\n",
    "    covariance_method = \"Emperical\"\n",
    "    knn_metric = 'mahalanobis'\n",
    "    observed = [np.int_(0), np.int_(1), np.int_(2), np.int_(3), np.int_(4)]\n",
    "    depth = 2\n",
    "    time_variable = True\n",
    "    daytime_variable = True\n",
    "    stream_length = 7 * day\n",
    "    stream_spacing = 2 * day\n",
    "\n",
    "    no_extrapollation = True\n",
    "    lead_lag = False\n",
    "\n",
    "    neighbours = 5\n",
    " "
   ]
  },
  {
   "cell_type": "code",
   "execution_count": 5,
   "id": "e95022f8",
   "metadata": {},
   "outputs": [],
   "source": [
    "(corpus, _) = paths_from_edges(clean_events, set([]), hyperparameters)\n",
    "(streams, outlier_count) = paths_from_edges(events, anomalous_events_timestamps, hyperparameters)\n",
    "labels = [outlier_count[i] > 0 for i in range(len(outlier_count))]"
   ]
  },
  {
   "cell_type": "code",
   "execution_count": 6,
   "id": "418dd103",
   "metadata": {},
   "outputs": [],
   "source": [
    "streams_signatures = calculate_signatures(streams, hyperparameters)\n",
    "corpus_signatures = calculate_signatures(corpus, hyperparameters)"
   ]
  },
  {
   "cell_type": "code",
   "execution_count": 9,
   "id": "29098e82",
   "metadata": {},
   "outputs": [
    {
     "name": "stdout",
     "output_type": "stream",
     "text": [
      "0.8781049679487178\n"
     ]
    }
   ],
   "source": [
    "pred = outlier_calc.knn(streams_signatures, hyperparameters)\n",
    "tpr_knn_edges, fpr_knn_edges, area_knn_edges = outlier_calc.evaluate(pred, labels)\n",
    "print(area_knn_edges)"
   ]
  },
  {
   "cell_type": "code",
   "execution_count": 10,
   "id": "9b971e50",
   "metadata": {},
   "outputs": [
    {
     "name": "stdout",
     "output_type": "stream",
     "text": [
      "0.8491586538461537\n"
     ]
    }
   ],
   "source": [
    "certainty = outlier_calc.mah_distance(streams_signatures, hyperparameters)\n",
    "tpr_mah_edges, fpr_mah_edges, area_mah_edges = outlier_calc.evaluate(certainty, labels)\n",
    "print(area_mah_edges)"
   ]
  },
  {
   "cell_type": "code",
   "execution_count": 11,
   "id": "9bae46b7",
   "metadata": {},
   "outputs": [
    {
     "name": "stdout",
     "output_type": "stream",
     "text": [
      "0.7700320512820513\n"
     ]
    }
   ],
   "source": [
    "score = outlier_calc.isolation_forest(corpus_signatures, streams_signatures, hyperparameters)\n",
    "tpr_iso_edges, fpr_iso_edges, area_iso_edges = outlier_calc.evaluate(score, labels)\n",
    "print(area_iso_edges)"
   ]
  },
  {
   "cell_type": "code",
   "execution_count": 12,
   "id": "1205136e",
   "metadata": {},
   "outputs": [
    {
     "name": "stdout",
     "output_type": "stream",
     "text": [
      "0.47896634615384615\n"
     ]
    }
   ],
   "source": [
    "score_svm_unsup = outlier_calc.one_class_SVM_unsupervised(streams_signatures, hyperparameters)\n",
    "tpr_svmus_edges, fpr_svmus_edges, area_svmus_edges = outlier_calc.evaluate(score_svm_unsup, labels)\n",
    "print(area_svmus_edges)"
   ]
  },
  {
   "cell_type": "code",
   "execution_count": 9,
   "id": "164e2c5c",
   "metadata": {},
   "outputs": [],
   "source": [
    "cluster_1 = pd.read_csv('C:\\\\Users\\\\dmitr\\\\Desktop\\\\project work\\\\dummy data\\\\data_c1.csv')\n",
    "cluster_2 = pd.read_csv('C:\\\\Users\\\\dmitr\\\\Desktop\\\\project work\\\\dummy data\\\\data_c2.csv')"
   ]
  },
  {
   "cell_type": "code",
   "execution_count": 12,
   "id": "f2d2e933",
   "metadata": {},
   "outputs": [],
   "source": [
    "(c1_streams, _) = paths_from_edges(cluster_1, set([]), hyperparameters)\n",
    "(c2_streams, _) = paths_from_edges(cluster_2, set([]), hyperparameters)"
   ]
  },
  {
   "cell_type": "code",
   "execution_count": 13,
   "id": "cb62a1c8",
   "metadata": {},
   "outputs": [],
   "source": [
    "c1_signatures = calculate_signatures(c1_streams, hyperparameters)\n",
    "c2_signatures = calculate_signatures(c2_streams, hyperparameters)"
   ]
  },
  {
   "cell_type": "code",
   "execution_count": 18,
   "id": "8c65690c",
   "metadata": {},
   "outputs": [],
   "source": [
    "clustering_streams, clustering_labels = interleave(c1_signatures, c2_signatures)"
   ]
  },
  {
   "cell_type": "code",
   "execution_count": 19,
   "id": "5ba662d0",
   "metadata": {},
   "outputs": [
    {
     "ename": "AttributeError",
     "evalue": "module 'clustering' has no attribute 'Spectral_clustering'",
     "output_type": "error",
     "traceback": [
      "\u001b[1;31m---------------------------------------------------------------------------\u001b[0m",
      "\u001b[1;31mAttributeError\u001b[0m                            Traceback (most recent call last)",
      "Input \u001b[1;32mIn [19]\u001b[0m, in \u001b[0;36m<cell line: 1>\u001b[1;34m()\u001b[0m\n\u001b[1;32m----> 1\u001b[0m pred_labels \u001b[38;5;241m=\u001b[39m \u001b[43mclustering\u001b[49m\u001b[38;5;241;43m.\u001b[39;49m\u001b[43mSpectral_clustering\u001b[49m(clustering_streams)\n\u001b[0;32m      2\u001b[0m \u001b[38;5;28mprint\u001b[39m(evaluate(pred_labels, clustering_labels))\n",
      "\u001b[1;31mAttributeError\u001b[0m: module 'clustering' has no attribute 'Spectral_clustering'"
     ]
    }
   ],
   "source": [
    "pred_labels = clustering.SpectralClustering(clustering_streams)\n",
    "print(evaluate(pred_labels, clustering_labels))"
   ]
  },
  {
   "cell_type": "code",
   "execution_count": 15,
   "id": "1d95bea4",
   "metadata": {},
   "outputs": [],
   "source": [
    "(corpus2, _) = paths_from_vertices(clean_events, set([]), hyperparameters)\n",
    "(streams2, outlier_count2) = paths_from_vertices(events, anomalous_events_timestamps, hyperparameters)\n",
    "labels2 = [outlier_count[i] > 0 for i in range(len(outlier_count))]"
   ]
  },
  {
   "cell_type": "code",
   "execution_count": 16,
   "id": "731ac2fe",
   "metadata": {},
   "outputs": [],
   "source": [
    "streams_signatures2 = calculate_signatures(streams2, hyperparameters)\n",
    "corpus_signatures2 = calculate_signatures(corpus2, hyperparameters)"
   ]
  },
  {
   "cell_type": "code",
   "execution_count": 17,
   "id": "f9373923",
   "metadata": {},
   "outputs": [
    {
     "name": "stdout",
     "output_type": "stream",
     "text": [
      "0.4934895833333333\n"
     ]
    }
   ],
   "source": [
    "pred2 = outlier_calc.knn(streams_signatures2)\n",
    "tpr_knn_vertices, fpr_knn_vertices, area_knn_vertices = outlier_calc.evaluate(pred2, labels2)\n",
    "print(area_knn_vertices)"
   ]
  },
  {
   "cell_type": "code",
   "execution_count": 18,
   "id": "a0056169",
   "metadata": {},
   "outputs": [
    {
     "name": "stdout",
     "output_type": "stream",
     "text": [
      "0.7239583333333335\n"
     ]
    }
   ],
   "source": [
    "certainty2 = outlier_calc.mah_distance(streams_signatures2, hyperparameters)\n",
    "tpr_mah_vertices, fpr_mah_vertices, area_mah_vertices = outlier_calc.evaluate(certainty2, labels2)\n",
    "print(area_mah_vertices)"
   ]
  },
  {
   "cell_type": "code",
   "execution_count": 19,
   "id": "3bf3b19b",
   "metadata": {},
   "outputs": [
    {
     "name": "stdout",
     "output_type": "stream",
     "text": [
      "0.7239583333333335\n"
     ]
    }
   ],
   "source": [
    "score2 = outlier_calc.isolation_forest(corpus_signatures2, streams_signatures2, hyperparameters)\n",
    "tpr_iso_vertices, fpr_isovertices, area_iso_vertices = outlier_calc.evaluate(score2, labels)\n",
    "print(area_mah_vertices)"
   ]
  },
  {
   "cell_type": "code",
   "execution_count": 20,
   "id": "36ce5a42",
   "metadata": {},
   "outputs": [
    {
     "name": "stdout",
     "output_type": "stream",
     "text": [
      "0.49979967948717957\n"
     ]
    }
   ],
   "source": [
    "score_svm_unsup2 = outlier_calc.one_class_SVM_unsupervised(streams_signatures2, hyperparameters)\n",
    "tpr_svmus_vertices, fpr_svmus_vertices, area_svmus_vertices = outlier_calc.evaluate(score_svm_unsup2, labels)\n",
    "print(area_svmus_vertices)"
   ]
  },
  {
   "cell_type": "code",
   "execution_count": null,
   "id": "dd197f92",
   "metadata": {},
   "outputs": [],
   "source": [
    "(c1_streams2, _) = paths_from_vertices(cluster_1, set([]), hyperparameters)\n",
    "(c2_streams2, _) = paths_from_vertices(cluster_2, set([]), hyperparameters)"
   ]
  },
  {
   "cell_type": "code",
   "execution_count": null,
   "id": "5e66e347",
   "metadata": {},
   "outputs": [],
   "source": [
    "c1_signatures2 = calculate_signatures(c1_streams2, hyperparameters)\n",
    "c2_signatures2 = calculate_signatures(c2_streams2, hyperparameters)"
   ]
  },
  {
   "cell_type": "code",
   "execution_count": null,
   "id": "cac11a6b",
   "metadata": {},
   "outputs": [],
   "source": [
    "clustering_streams2, clustering_labels2 = interleave(c1_signatures2, c2_signatures2)"
   ]
  },
  {
   "cell_type": "code",
   "execution_count": null,
   "id": "d30a71da",
   "metadata": {},
   "outputs": [],
   "source": [
    "pred_labels2 = clustering.Spectral_clustering(clustering_streams2)\n",
    "print(evaluate(pred_labels2, clustering_labels2))"
   ]
  },
  {
   "cell_type": "code",
   "execution_count": 14,
   "id": "33095ae9",
   "metadata": {},
   "outputs": [
    {
     "name": "stderr",
     "output_type": "stream",
     "text": [
      "Computing signatures: 100%|██████████████████████████████████████████████████████████| 488/488 [21:51<00:00,  2.69s/it]\n",
      "Building shuffle matrix: 100%|██████████████████████████████████████████████████████| 157/157 [00:00<00:00, 281.60it/s]\n",
      "Computing variances: 100%|███████████████████████████████████████████████████████████| 397/397 [00:24<00:00, 16.25it/s]"
     ]
    },
    {
     "name": "stdout",
     "output_type": "stream",
     "text": [
      "0.9242788461538461\n"
     ]
    },
    {
     "name": "stderr",
     "output_type": "stream",
     "text": [
      "\n"
     ]
    }
   ],
   "source": [
    "res = variance(streams, corpus, hyperparameters.depth)\n",
    "tpr_conformance_edges, fpr_conformance_edges, area_conformance_edges = outlier_calc.evaluate(res, labels)\n",
    "print(area_conformance_edges)"
   ]
  },
  {
   "cell_type": "code",
   "execution_count": 23,
   "id": "ab8b2d5b",
   "metadata": {},
   "outputs": [
    {
     "name": "stderr",
     "output_type": "stream",
     "text": [
      "Computing signatures: 100%|██████████████████████████████████████████████████████████| 488/488 [26:13<00:00,  3.22s/it]\n",
      "Building shuffle matrix: 100%|██████████████████████████████████████████████████████| 157/157 [00:00<00:00, 400.53it/s]\n",
      "Computing variances: 100%|███████████████████████████████████████████████████████████| 397/397 [00:24<00:00, 16.14it/s]"
     ]
    },
    {
     "name": "stdout",
     "output_type": "stream",
     "text": [
      "0.8048878205128205\n"
     ]
    },
    {
     "name": "stderr",
     "output_type": "stream",
     "text": [
      "\n"
     ]
    }
   ],
   "source": [
    "res = variance(streams2, corpus2, hyperparameters.depth)\n",
    "tpr_conformance_vertices, fpr_conformance_vertices, area_conformance_vertices = outlier_calc.evaluate(res, labels)\n",
    "print(area_conformance_vertices)"
   ]
  }
 ],
 "metadata": {
  "kernelspec": {
   "display_name": "Python 3 (ipykernel)",
   "language": "python",
   "name": "python3"
  },
  "language_info": {
   "codemirror_mode": {
    "name": "ipython",
    "version": 3
   },
   "file_extension": ".py",
   "mimetype": "text/x-python",
   "name": "python",
   "nbconvert_exporter": "python",
   "pygments_lexer": "ipython3",
   "version": "3.10.5"
  },
  "vscode": {
   "interpreter": {
    "hash": "f441125be57e159650267759ec2248efe54b15ad347e99e3f26931a9aa1467de"
   }
  }
 },
 "nbformat": 4,
 "nbformat_minor": 5
}
